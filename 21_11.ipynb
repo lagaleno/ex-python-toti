{
  "nbformat": 4,
  "nbformat_minor": 0,
  "metadata": {
    "colab": {
      "provenance": []
    },
    "kernelspec": {
      "name": "python3",
      "display_name": "Python 3"
    },
    "language_info": {
      "name": "python"
    }
  },
  "cells": [
    {
      "cell_type": "markdown",
      "source": [
        "# Questionário"
      ],
      "metadata": {
        "id": "gGIl4AuOrkzy"
      }
    },
    {
      "cell_type": "code",
      "source": [
        "def fazMod(num, divisor):\n",
        "  return num % divisor\n",
        "\n",
        "def checkParidade(num):\n",
        "\n",
        "  resto = fazMod(num, 2)\n",
        "\n",
        "  if resto == 0:\n",
        "    print('É par')\n",
        "  else:\n",
        "    print('É ímpar')\n",
        "\n"
      ],
      "metadata": {
        "id": "NywCo-M6v1v0"
      },
      "execution_count": null,
      "outputs": []
    },
    {
      "cell_type": "code",
      "execution_count": null,
      "metadata": {
        "id": "N3EJ9FYHrfMP",
        "colab": {
          "base_uri": "https://localhost:8080/"
        },
        "outputId": "ec800851-28e6-483c-8bb1-71cd57615c6e"
      },
      "outputs": [
        {
          "output_type": "stream",
          "name": "stdout",
          "text": [
            "4\n",
            "2\n",
            "-2\n"
          ]
        }
      ],
      "source": [
        "# Funções\n",
        "def fazSoma(a, b):\n",
        "  return a + b\n",
        "\n",
        "def fazSub(num1, num2, num3):\n",
        "  return num1 - num2\n",
        "\n",
        "# principal\n",
        "\n",
        "a = int(input())\n",
        "b = int(input())\n",
        "\n",
        "res = fazSub(b, a, c)\n",
        "print(res)\n"
      ]
    },
    {
      "cell_type": "markdown",
      "source": [
        "# Exercícios"
      ],
      "metadata": {
        "id": "rjVPyFVyrmiJ"
      }
    },
    {
      "cell_type": "markdown",
      "source": [
        "#1"
      ],
      "metadata": {
        "id": "4DeNLO1hsMTz"
      }
    },
    {
      "cell_type": "code",
      "source": [
        "def checkParidade(num):\n",
        "\n",
        "  if num % 2 == 0:\n",
        "    return \"é par\"\n",
        "  return \"é ímpar\"\n",
        "\n",
        "num = int(input(\"Entre com o número que deseja saber a paridade \"))\n",
        "print(\"O número informado\", checkParidade(num))"
      ],
      "metadata": {
        "colab": {
          "base_uri": "https://localhost:8080/"
        },
        "id": "Z6FQMS3MroBg",
        "outputId": "1829c052-7508-43d2-ee9c-6158d7ed58e9"
      },
      "execution_count": null,
      "outputs": [
        {
          "output_type": "stream",
          "name": "stdout",
          "text": [
            "Entre com o número que deseja saber a paridade 4\n",
            "O número informado é par\n"
          ]
        }
      ]
    },
    {
      "cell_type": "markdown",
      "source": [
        "#2"
      ],
      "metadata": {
        "id": "MPvXdQLysy_x"
      }
    },
    {
      "cell_type": "code",
      "source": [
        "def imprime_vertical(string):\n",
        "\n",
        "  for letra in string:\n",
        "    print(letra)\n",
        "\n",
        "string = input(\"Entre com seu nome \")\n",
        "imprime_vertical(string)"
      ],
      "metadata": {
        "colab": {
          "base_uri": "https://localhost:8080/"
        },
        "id": "C_fylcCes0Pb",
        "outputId": "edc05e2e-ee60-47dc-d214-9f8323f9073b"
      },
      "execution_count": null,
      "outputs": [
        {
          "output_type": "stream",
          "name": "stdout",
          "text": [
            "Entre com seu nome Fulano\n",
            "F\n",
            "u\n",
            "l\n",
            "a\n",
            "n\n",
            "o\n"
          ]
        }
      ]
    },
    {
      "cell_type": "markdown",
      "source": [
        "#3"
      ],
      "metadata": {
        "id": "lqWki5Powng3"
      }
    },
    {
      "cell_type": "code",
      "source": [
        "def inverte_numero(num):\n",
        "  num_str = str(num)\n",
        "\n",
        "  reverse_str = ''\n",
        "\n",
        "  for i in range(len(num_str) - 1, -1, -1):\n",
        "    reverse_str = reverse_str + num_str[i]\n",
        "  \n",
        "  return reverse_str\n",
        "\n",
        "num = int(input(\"Entre com o seu número inteiro \"))\n",
        "print(inverte_numero(num))"
      ],
      "metadata": {
        "colab": {
          "base_uri": "https://localhost:8080/"
        },
        "id": "auToLJZewoNd",
        "outputId": "8c0eb889-c536-4f9b-d5af-b809e91f8dc6"
      },
      "execution_count": null,
      "outputs": [
        {
          "output_type": "stream",
          "name": "stdout",
          "text": [
            "Entre com o seu número inteiro 1234\n",
            "3\n",
            "2\n",
            "1\n",
            "0\n",
            "4321\n"
          ]
        }
      ]
    },
    {
      "cell_type": "markdown",
      "source": [
        "#4"
      ],
      "metadata": {
        "id": "HwfSKy6r0Zez"
      }
    },
    {
      "cell_type": "code",
      "source": [
        "def check_palindromo(string):\n",
        "\n",
        "  indice_reverso = len(string) - 1\n",
        "  \n",
        "  for i in range(len(string)):\n",
        "    if string[i] != string[indice_reverso - i]:\n",
        "      return \"Não é palíndromo\"\n",
        "\n",
        "  return \"É palíndromo\"\n",
        "\n",
        "\n",
        "string = input(\"Entre com a string que quer checar \")\n",
        "print(check_palindromo(string))"
      ],
      "metadata": {
        "colab": {
          "base_uri": "https://localhost:8080/"
        },
        "id": "eJTWCY--0ZNL",
        "outputId": "1e72443b-469f-406b-f793-7c8feca5d9c7"
      },
      "execution_count": null,
      "outputs": [
        {
          "output_type": "stream",
          "name": "stdout",
          "text": [
            "Entre com a string que quer checar larissa\n",
            "Não é palíndromo\n"
          ]
        }
      ]
    }
  ]
}